{
 "cells": [
  {
   "cell_type": "markdown",
   "id": "b6eed90c-6c75-4d4d-8e9c-d26ef97f517f",
   "metadata": {},
   "source": [
    "# Word2Vec : Creating Word Embeddings with Pytorch"
   ]
  },
  {
   "cell_type": "markdown",
   "id": "0a4f57ea-a2eb-43f4-9f29-badef4ade538",
   "metadata": {},
   "source": [
    "## Implementing the CBOW model\n",
    "\n",
    "Using text from Shakespeare's plays, we will implement the CBOW model from scratch, using pytorch to simplify the creation of the network architecture and training loop. The implementation will be divided into 4 parts: \n",
    "* **Building the corpus Vocab**\n",
    "* **Create the (context_window, target_word) examples**\n",
    "* **Build the neural network architecture**\n",
    "* **Train the model**\n",
    "* **Visualize the word embeddings**"
   ]
  },
  {
   "cell_type": "markdown",
   "id": "83df0d1b-a1ca-482a-a951-af8197f26b2d",
   "metadata": {},
   "source": [
    "### 1. Building the corpus Vocab"
   ]
  },
  {
   "cell_type": "code",
   "execution_count": 6,
   "id": "1b1b1cf6-51a2-446f-8b4e-5a62954a8984",
   "metadata": {},
   "outputs": [
    {
     "name": "stdout",
     "output_type": "stream",
     "text": [
      "Number of tokens: 111696 \n",
      " First 15 tokens :  ['this', 'is', 'the', 'etext', 'file', 'presented', 'by', 'project', 'gutenberg', '.', 'and', 'is', 'presented', 'in', 'cooperation']\n"
     ]
    }
   ],
   "source": [
    "import nltk\n",
    "from nltk.tokenize import word_tokenize\n",
    "import re  \n",
    "\n",
    "\n",
    "# import txt corpus\n",
    "with open('corpus/Shakespeare_small.txt') as f:\n",
    "    text = f.read()   \n",
    "text = re.sub(r'[,!?;-]', '.',text)                                 #  Punktuations are replaced by .\n",
    "text = nltk.word_tokenize(text)                                     #  Tokenize string to words\n",
    "text = [ ch.lower() for ch in text if ch.isalpha() or ch == '.']    #  Lower case and drop non-alphabetical tokens\n",
    "print(\"Number of tokens:\", len(text), '\\n First 15 tokens : ', text[:15])  #  print data sample"
   ]
  },
  {
   "cell_type": "markdown",
   "id": "1c33b36f-b63a-4127-9a07-b86284a80491",
   "metadata": {},
   "source": [
    "Next we must :\n",
    "* Get the vocabulary and vocabulary size (the set() function can be useful...)\n",
    "* Create 2 dictionaries :\n",
    "    * word2idx => keys are words in vocab, values are a unique number we must attribute to each word\n",
    "    * idx2word => keys are a unique number, values are the corresponding word  \n",
    "    These dictionaries will allow us to map words in the vocab to unique numbers.  This is necessary as we will be feeding these numbers to the model, not the words directly.\n",
    "* Create the (context, target) example pairs and store them in a list called data."
   ]
  },
  {
   "cell_type": "code",
   "execution_count": 8,
   "id": "396da86b",
   "metadata": {},
   "outputs": [
    {
     "name": "stdout",
     "output_type": "stream",
     "text": [
      "Vocab size = 7860 \n"
     ]
    }
   ],
   "source": [
    "# get the vocab and vocab length \n",
    "vocab = set(text)\n",
    "vocab_size = len(vocab)\n",
    "\n",
    "# sort the vocab alphabetically \n",
    "vocab = sorted(vocab)\n",
    "print(f\"Vocab size = {vocab_size} \") # for small version"
   ]
  },
  {
   "cell_type": "markdown",
   "id": "51bf73cf",
   "metadata": {},
   "source": [
    "**output** for small version is:\n",
    "\n",
    "Vocab size = 7860 "
   ]
  },
  {
   "cell_type": "code",
   "execution_count": 9,
   "id": "ae6492e7-adcc-453c-a05f-6cb59688c154",
   "metadata": {},
   "outputs": [
    {
     "name": "stdout",
     "output_type": "stream",
     "text": [
      "Index of the word 'king' :   3764\n",
      "Word which has index 3764:   king\n"
     ]
    }
   ],
   "source": [
    "# create the word2idx and idx2word dictionaries:\n",
    "word2idx = {word: idx for idx, word in enumerate(vocab)}\n",
    "idx2word = {idx: word for word, idx in word2idx.items()}\n",
    "\n",
    "# example of word to index mapping\n",
    "print(\"Index of the word 'king' :  \",word2idx['king'] )\n",
    "print(\"Word which has index 3764:  \",idx2word[3764] )"
   ]
  },
  {
   "cell_type": "markdown",
   "id": "70ac3e00",
   "metadata": {},
   "source": [
    "**output** is:\n",
    "\n",
    "Index of the word 'king' :   3764\n",
    "\n",
    "Word which has index 3764:   king"
   ]
  },
  {
   "cell_type": "code",
   "execution_count": 10,
   "id": "b1eaacbd-ba33-409f-8db7-f751e8540e81",
   "metadata": {
    "tags": []
   },
   "outputs": [
    {
     "name": "stdout",
     "output_type": "stream",
     "text": [
      "first 5 words : ['this', 'is', 'the', 'etext', 'file']\n",
      "example n°1 = (['this', 'is', 'etext', 'file'], 'the')\n",
      "context = ['this', 'is', 'etext', 'file']\n",
      "target = the\n",
      "Number of examples : 111692\n"
     ]
    }
   ],
   "source": [
    "# Going through the text, create a list of data examples, where each example consists of a (context, target) tuple.\n",
    "# The context can be represented as a list of the context words (2 before and 2 after)\n",
    "# Start at word idx number 2 and end on the second to last word.\n",
    "\n",
    "# Create the (context, target) example pairs and store them in a list called data.\n",
    "data = []\n",
    "window_size = 2  \n",
    "\n",
    "# loop to make training examples\n",
    "for i in range(window_size, len(text) - window_size):\n",
    "    context = text[i - window_size:i] + text[i + 1:i + window_size + 1]\n",
    "    target = text[i]\n",
    "    data.append((context, target))\n",
    "\n",
    "\n",
    "# check if it works for the first example   \n",
    "print(f'first 5 words : {text[:5]}')\n",
    "print(f'example n°1 = {data[0]}')\n",
    "print(f'context = {data[0][0]}')\n",
    "print(f'target = {data[0][1]}')\n",
    "\n",
    "print(f'Number of examples : {len(data)}')\n",
    "# if this is too much data and training is too long on our computer, we can reduce the data size, removing some of the plays."
   ]
  },
  {
   "cell_type": "markdown",
   "id": "fc5e83e1",
   "metadata": {},
   "source": [
    "**output** is:\n",
    "\n",
    "same with expected output"
   ]
  },
  {
   "cell_type": "markdown",
   "id": "5212cb5a",
   "metadata": {},
   "source": [
    "Expected output is :\n",
    "first 5 words : ['this', 'is', 'the', 'etext', 'file']  \n",
    "example n°1 = (['this', 'is', 'etext', 'file'], 'the')   \n",
    "context = ['this', 'is', 'etext', 'file']  \n",
    "target = the  \n",
    "Number of examples : 111692"
   ]
  },
  {
   "cell_type": "markdown",
   "id": "2ec393b3-ece5-4da9-8cc5-b0441d607c19",
   "metadata": {},
   "source": [
    "### 2. Building the neural net architecture with pytorch"
   ]
  },
  {
   "cell_type": "code",
   "execution_count": 11,
   "id": "ac619996-e928-4a40-8d84-2978df3ca21f",
   "metadata": {},
   "outputs": [],
   "source": [
    "# https://pytorch.org/get-started/locally/ to see how to install pytorch\n",
    "import torch\n",
    "import torch.nn as nn\n",
    "import torch.nn.functional as F\n",
    "import torch.optim as optim"
   ]
  },
  {
   "cell_type": "markdown",
   "id": "791fadcc-bc27-4bce-af1e-2c3e3d85a591",
   "metadata": {},
   "source": [
    "#### 2.1 Batching the data examples"
   ]
  },
  {
   "cell_type": "markdown",
   "id": "4ee541dd",
   "metadata": {},
   "source": [
    "In order to accelerate the training process, we can **batch** training examples together.  This means that instead of feeding the model 1 example at a time, we feed it 16 or 32 or 64 examples in one go. The batchsize is up to us and is generally a power of 2.  Pytorch's `Dataloader`class takes care of this for us.  It takes as arguments a pytorch `Dataset`(`TensorDataset` in this case) and a `batch_size`.  \n",
    "\n",
    "To be istantiated, the `TensorDataset` class here will take 2 arguments:\n",
    "* a pytorch tensor of inputs \n",
    "* a pytorch tensor of targets.  \n",
    "\n",
    "The inputs will be the contexts in the data list created above, except the tokens will have to be transformed into indexes (ie. integer values) for our neural net.  The targets will have to undergo the same treatment. Use the word2idx dictionary we created previously to get the corresponding indexes for each token.  Finally transform these lists into torch tensors by using `torch.tensor(list)` so they can be fed as arguments to the TorchDataset class."
   ]
  },
  {
   "cell_type": "code",
   "execution_count": 13,
   "id": "40663d34-8ccd-47df-996f-a77341c3c1d0",
   "metadata": {},
   "outputs": [],
   "source": [
    "from torch.utils.data import TensorDataset, DataLoader\n",
    "\n",
    "# Extract the context and target and convert them into indices\n",
    "contexts = []\n",
    "targets = []\n",
    "\n",
    "for context, target in data:\n",
    "    context_idxs = [word2idx[word] for word in context]\n",
    "    target_idx = word2idx[target]\n",
    "    contexts.append(context_idxs)\n",
    "    targets.append(target_idx)\n",
    "\n",
    "# Convert list to PyTorch tensor\n",
    "contexts = torch.tensor(contexts, dtype=torch.long)\n",
    "targets = torch.tensor(targets, dtype=torch.long)\n",
    "\n",
    "assert len(contexts) == len(targets)\n",
    "assert len(contexts) == len(targets)\n",
    "\n",
    "dataset = TensorDataset(contexts, targets)\n",
    "dataloader = DataLoader(dataset, batch_size=128)"
   ]
  },
  {
   "cell_type": "code",
   "execution_count": 14,
   "id": "7aa3aae6-2d8b-4c50-8826-fa2d69f3a755",
   "metadata": {},
   "outputs": [
    {
     "name": "stdout",
     "output_type": "stream",
     "text": [
      "torch.Size([111692, 4])\n",
      "tensor([[6915, 3668, 2386, 2649],\n",
      "        [3668, 6873, 2649, 5201]])\n",
      "tensor([6873, 2386])\n"
     ]
    }
   ],
   "source": [
    "print(contexts.shape)\n",
    "print(contexts[:2])\n",
    "print(targets[:2])"
   ]
  },
  {
   "cell_type": "markdown",
   "id": "d27b72e3",
   "metadata": {},
   "source": [
    "**output** is:\n",
    "\n",
    "same with expected output"
   ]
  },
  {
   "cell_type": "markdown",
   "id": "a1271674-999e-4b20-a028-b336c336769a",
   "metadata": {},
   "source": [
    "Expected output:  \n",
    "\n",
    "torch.Size([111692, 4])  \n",
    "\n",
    "tensor([[6915, 3668, 2386, 2649],\n",
    "        [3668, 6873, 2649, 5201]])  \n",
    "        \n",
    "tensor([6873, 2386])"
   ]
  },
  {
   "cell_type": "markdown",
   "id": "bceefc1f-fd2f-45b0-813a-ae93d8f33ff1",
   "metadata": {},
   "source": [
    "#### 2.2 The Model architecture"
   ]
  },
  {
   "cell_type": "markdown",
   "id": "97f70a4d-8799-465c-8922-5698630f3995",
   "metadata": {},
   "source": [
    "Here is an overview of the model's architecture and how a single example flows through the layers :  "
   ]
  },
  {
   "cell_type": "markdown",
   "id": "155fef6b-8fe4-4466-a7c6-5fbb1b2e7e18",
   "metadata": {},
   "source": [
    "<div style='text-align:center;'/><img src='images/Diapositive1.png'>"
   ]
  },
  {
   "cell_type": "markdown",
   "id": "b66c5284-faed-47df-8d0a-7ef60c98a389",
   "metadata": {},
   "source": [
    "Take a look at the XOR notebook to see how a model class is created in pytorch (the init function and the forward function are the main components).\n",
    "\n",
    "We may add the `vocab_size` and number of embedding dimensions (`embedding_dim`) we want our embeddings to have to the init parameters, so as to pass them in when we instantiate the model. "
   ]
  },
  {
   "cell_type": "code",
   "execution_count": 15,
   "id": "fe1dfcc6-3695-442f-921f-fc8dcbef10f3",
   "metadata": {
    "collapsed": true,
    "jupyter": {
     "outputs_hidden": true
    },
    "tags": []
   },
   "outputs": [],
   "source": [
    "# Create the Neural Net (replace underscores and None)\n",
    "\n",
    "class CBOW(nn.Module):\n",
    "    def __init__(self, vocab_size, embedding_dim):\n",
    "        super(CBOW, self).__init__()\n",
    "        # embedding layer\n",
    "        self.embeddings = nn.Embedding(vocab_size, embedding_dim)\n",
    "        # output layer\n",
    "        self.output = nn.Linear(embedding_dim, vocab_size)\n",
    "\n",
    "    def forward(self, batch):\n",
    "        embeds = self.embeddings(batch).mean(dim=1)\n",
    "        out = self.output(embeds)\n",
    "        return out\n",
    "\n",
    "        "
   ]
  },
  {
   "cell_type": "code",
   "execution_count": 16,
   "id": "4b56d320-7eba-4130-af1e-6224784cc9d1",
   "metadata": {
    "collapsed": true,
    "jupyter": {
     "outputs_hidden": true
    },
    "tags": []
   },
   "outputs": [
    {
     "name": "stdout",
     "output_type": "stream",
     "text": [
      "CBOW(\n",
      "  (embeddings): Embedding(7860, 50)\n",
      "  (output): Linear(in_features=50, out_features=7860, bias=True)\n",
      ")\n"
     ]
    }
   ],
   "source": [
    "# set random seed to instantiate the model weights at random in a *reproducible* fashion\n",
    "# this means running this cell will reinitialize the embeddings to the same random initial values when we\n",
    "# try different hyperparameters\n",
    "torch.manual_seed(42)\n",
    "\n",
    "#instantiate the model\n",
    "model = CBOW(vocab_size, \n",
    "             embedding_dim=50)\n",
    "print(model)"
   ]
  },
  {
   "cell_type": "markdown",
   "id": "9be1b04d",
   "metadata": {},
   "source": [
    "**output** is:\n",
    "\n",
    "same with expected output"
   ]
  },
  {
   "cell_type": "markdown",
   "id": "3e37598e-f290-4b7c-b884-3b83cb2f4321",
   "metadata": {},
   "source": [
    "Our model should look something like this :\n",
    "\n",
    "CBOW(  \n",
    "  (embeddings): Embedding(7860, 50)  \n",
    "  (output): Linear(in_features=50, out_features=7860, bias=True)  \n",
    ")"
   ]
  },
  {
   "cell_type": "markdown",
   "id": "6fff8ba7-4287-4ef9-83c3-0d5d078fa26b",
   "metadata": {},
   "source": [
    "#### 2.3 Visualizing word vectors and similarities before training"
   ]
  },
  {
   "cell_type": "markdown",
   "id": "50af9d26-23af-47e7-9879-92c2a9a1816c",
   "metadata": {},
   "source": [
    "The code in the next 2 cells shows similarity measures between vectors and plots vectors in space after reducing their dimensionality to 2."
   ]
  },
  {
   "cell_type": "code",
   "execution_count": 17,
   "id": "ab062724-8b94-4c99-95e9-7c8da632da5c",
   "metadata": {},
   "outputs": [],
   "source": [
    "import numpy as np\n",
    "import seaborn as sns\n",
    "from sklearn.decomposition import PCA\n",
    "import matplotlib.pyplot as plt"
   ]
  },
  {
   "cell_type": "code",
   "execution_count": 18,
   "id": "2eda1fbc-f595-47e5-9f3d-b920cbac5adb",
   "metadata": {},
   "outputs": [],
   "source": [
    "# list of words to study\n",
    "words = ['man', 'king', 'lord', 'woman', 'queen', 'lady']"
   ]
  },
  {
   "cell_type": "code",
   "execution_count": 19,
   "id": "7a1dfab6-8029-4f33-84a4-af787df9ac5c",
   "metadata": {},
   "outputs": [],
   "source": [
    "# the embeddings for the words, randomly initialized by the model\n",
    "embeddings_bef = np.array([model.embeddings(torch.tensor(word2idx[word],dtype=torch.long)).detach().numpy() \n",
    "                       for word in words]).squeeze()"
   ]
  },
  {
   "cell_type": "code",
   "execution_count": 28,
   "id": "d1120dd2-0adc-497a-842f-24dbdbe1ecad",
   "metadata": {
    "collapsed": true,
    "jupyter": {
     "outputs_hidden": true
    },
    "tags": []
   },
   "outputs": [
    {
     "data": {
      "image/png": "[encoded data removed]",
      "text/plain": [
       "<Figure size 640x480 with 1 Axes>"
      ]
     },
     "metadata": {},
     "output_type": "display_data"
    },
    {
     "data": {
      "text/plain": [
       "<Figure size 640x480 with 0 Axes>"
      ]
     },
     "metadata": {},
     "output_type": "display_data"
    }
   ],
   "source": [
    "# Plotting the vectors\n",
    "# In order to plot and visualize the vectors in 2D, we can use an algorithm called *Principal Component Analysis (PCA)* \n",
    "# to reduce the vectors' dimensions from 50 (or whichever dimension we chose) down to 2.  This can be easily done using `sklearn`.  \n",
    "\n",
    "\n",
    "# perform PCA (reduce to 2 dimensions)\n",
    "pca = PCA(n_components=2)\n",
    "reduced = pca.fit_transform(embeddings_bef)\n",
    "\n",
    "# plotting the 2D vectors\n",
    "plt.scatter(reduced[:,1], reduced[:, 0])\n",
    "for i, word in enumerate(words):\n",
    "    plt.annotate(word, xy=(reduced[i, 1], reduced[i, 0]))\n",
    "plt.show()\n",
    "#plt.savefig(\"plot.pdf\") # save fig to pdf"
   ]
  },
  {
   "cell_type": "markdown",
   "id": "48a815a0",
   "metadata": {},
   "source": [
    "### Word Vectors and Similarities Before Training\n",
    "\n",
    "The plot below shows the 2D visualization of word vectors before training. The words included in this visualization are 'man', 'king', 'lord', 'woman', 'queen', and 'lady'. The positions of these words in the 2D space provide insight into their initial, randomly initialized relationships before the model has learned any meaningful semantic associations.\n",
    "\n",
    "\n",
    "<div style='text-align:center;'><img src=\"images/plot_vectors_before_training.png\"/></div>\n",
    "\n",
    "### Hypotheses Verification After Training\n",
    "\n",
    "To compare, after training, we expect the word vectors to exhibit the following changes:\n",
    "- **Semantic Closeness**: Words with similar meanings, such as \"king\" and \"queen\" or \"man\" and \"woman\", should move closer together in the 2D space.\n",
    "- **Distinct Clusters**: Words that belong to different semantic categories should form distinct clusters.\n",
    "- **Improved Cosine Similarity**: Cosine similarity scores between semantically similar words should increase.\n",
    "\n",
    "\n",
    "After training, a new plot can be generated to visualize how the word vectors have moved and whether the model has successfully learned the semantic relationships.\n"
   ]
  },
  {
   "cell_type": "code",
   "execution_count": 21,
   "id": "44074d49-d540-4b0d-9a20-51e80c1189e1",
   "metadata": {
    "collapsed": true,
    "jupyter": {
     "outputs_hidden": true
    },
    "tags": []
   },
   "outputs": [
    {
     "data": {
      "text/plain": [
       "<Axes: >"
      ]
     },
     "execution_count": 21,
     "metadata": {},
     "output_type": "execute_result"
    },
    {
     "data": {
      "image/png": "[encoded data removed]",
      "text/plain": [
       "<Figure size 640x480 with 2 Axes>"
      ]
     },
     "metadata": {},
     "output_type": "display_data"
    }
   ],
   "source": [
    "# This code creates a heatmap showing the cosine similarity between each of the words in the list\n",
    "\n",
    "# compute cosine simil between words\n",
    "dot_similarity = np.dot(embeddings_bef, embeddings_bef.T)\n",
    "norms = np.linalg.norm(embeddings_bef, axis=1)\n",
    "dot_similarity /= np.outer(norms, norms)\n",
    "\n",
    "# create heatmap (top half has been masked for more clarity, since it shows the same scores as the bottom half)\n",
    "mask = np.zeros_like(dot_similarity)\n",
    "mask[np.triu_indices_from(mask)] = True\n",
    "sns.heatmap(dot_similarity,\n",
    "            xticklabels=words,\n",
    "            yticklabels=words,\n",
    "            annot=True,\n",
    "            mask=mask,\n",
    "            cmap='viridis')\n",
    "# plt.savefig(\"heatmap.pdf\") # save fig to pdf"
   ]
  },
  {
   "cell_type": "markdown",
   "id": "2f0d251f",
   "metadata": {},
   "source": [
    "### Cosine Similarities Before Training\n",
    "\n",
    "The heatmap below shows the cosine similarities between word vectors before training. The words included are 'man', 'king', 'lord', 'woman', 'queen', and 'lady'. This visualization helps us understand the initial, randomly initialized relationships between the words before any training has occurred.\n",
    "\n",
    "\n",
    "\n",
    "<div style='text-align:center;'><img src=\"images/heatmap_before_training.png\"/></div>\n",
    "\n",
    "#### Interpretation\n",
    "\n",
    "- **Random Similarities**: The cosine similarities between the words are quite random, which is expected because the word vectors have not been trained and are initially random.\n",
    "- **No Clear Patterns**: There are no clear patterns or clusters of similarity, as the vectors have not yet learned any meaningful relationships.\n",
    "\n",
    "### Hypotheses Verification After Training\n",
    "\n",
    "After training, we expect the following changes in the heatmap:\n",
    "- **Increased Similarity for Related Words**: Words with similar meanings, such as \"king\" and \"queen\" or \"man\" and \"woman\", should show higher cosine similarity scores.\n",
    "- **Decreased Similarity for Unrelated Words**: Words with different meanings should show lower cosine similarity scores.\n",
    "\n"
   ]
  },
  {
   "cell_type": "markdown",
   "id": "f759c59f-e064-4d7d-8da0-1ffa743e1c4b",
   "metadata": {},
   "source": [
    "#### 2.4 Training Loop"
   ]
  },
  {
   "cell_type": "markdown",
   "id": "1449c12b-df5c-484e-8596-c75d2df88b91",
   "metadata": {},
   "source": [
    "Start by selecting the appropriate loss function and optimizer.  Use `nn.CrossEntropyLoss()` as a loss function and `torch.optim.SGD`for the optimizer.  This optimizer is an implementation of the Gradient Descent algorithm and takes as arguments `model.parameters()`, the model's parameters, and `lr` the learning rate, which can be set to 0.1 when using batches of 128 (experiment with different values here). Next run the model for 150-200 epochs.\n",
    "\n",
    "*NOTE: until you reset the parameters by re-instantiating the model, the training loop will continue from where it left off. If you stop and then retstart the cell below, you will continue training the parameters from the last epoch.*"
   ]
  },
  {
   "cell_type": "code",
   "execution_count": 23,
   "id": "06a08957-edaf-4501-a939-5254f62ee363",
   "metadata": {
    "tags": []
   },
   "outputs": [
    {
     "name": "stdout",
     "output_type": "stream",
     "text": [
      "Epoch 10 : 5119.382235050201\n",
      "Epoch 20 : 4900.065892696381\n",
      "Epoch 30 : 4777.60112285614\n",
      "Epoch 40 : 4688.539438724518\n",
      "Epoch 50 : 4617.969173908234\n",
      "Epoch 60 : 4558.839951753616\n",
      "Epoch 70 : 4507.25491976738\n",
      "Epoch 80 : 4461.066242456436\n",
      "Epoch 90 : 4418.946729660034\n",
      "Epoch 100 : 4379.988253116608\n",
      "Epoch 110 : 4343.550120830536\n",
      "Epoch 120 : 4309.175753116608\n",
      "Epoch 130 : 4276.535244703293\n",
      "Epoch 140 : 4245.3859095573425\n",
      "Epoch 150 : 4215.544715166092\n"
     ]
    }
   ],
   "source": [
    "import time\n",
    "loss_function = nn.CrossEntropyLoss()\n",
    "optimizer = optim.SGD(model.parameters(), lr=0.1)\n",
    "epochs = 150\n",
    "\n",
    "#TRAINING\n",
    "# around 4s per epoch on my machine (small version)\n",
    "# we can track the time passed per epoch by decommenting the time1 line and the print(time.time...) at the end.\n",
    "for epoch in range(epochs):\n",
    "    #time1 = time.time()\n",
    "    \n",
    "    # initiliaze the total_loss for each epoch to 0\n",
    "    total_loss = 0.0\n",
    "\n",
    "    # the dataloader is a generator object, it produces a batch of contexts and targets when we iterate over it.\n",
    "    for context, target in dataloader:\n",
    "        \n",
    "        # get the logits\n",
    "        logits = model(context)\n",
    "        \n",
    "        # calculate the loss by passing the logits and targets to the loss_function\n",
    "        loss = loss_function(logits, target)\n",
    "        \n",
    "        # add the loss value to the total_loss (use loss.item() to get the value as a standard number vs a pytorch tensor)\n",
    "        total_loss += loss.item()\n",
    "\n",
    "        \n",
    "        # optimize the network weights using the three steps seen in the XOR notebook\n",
    "        optimizer.zero_grad()\n",
    "        loss.backward()\n",
    "        optimizer.step()\n",
    "    \n",
    "    # track the loss by printing it every 10 epochs (replace with 1 to see the time passed per epoch)\n",
    "    if (epoch+1) % 10 == 0:\n",
    "        print(f'Epoch {epoch+1} : {total_loss}')\n",
    "    \n",
    "    #print(time.time()-time1)"
   ]
  },
  {
   "cell_type": "code",
   "execution_count": 24,
   "id": "f294ea31-27e7-4b61-9b1e-6b0e29215f24",
   "metadata": {},
   "outputs": [
    {
     "data": {
      "text/plain": [
       "<All keys matched successfully>"
      ]
     },
     "execution_count": 24,
     "metadata": {},
     "output_type": "execute_result"
    }
   ],
   "source": [
    "# save the trained model for easier experimentation\n",
    "torch.save(model.state_dict(), f'cbow_model_{epochs}.pth') # add num of epochs to know which model this is for example\n",
    "\n",
    "# load the trained model whenever we want with\n",
    "model = CBOW(vocab_size, embedding_dim=50) # reset the model\n",
    "model.load_state_dict(torch.load('cbow_model_150.pth')) # load the saved weights"
   ]
  },
  {
   "attachments": {},
   "cell_type": "markdown",
   "id": "5324aef8-3f6a-41fc-badd-9357670650c8",
   "metadata": {
    "tags": []
   },
   "source": [
    "#### 2.5 Visualizing word vectors and similarities after training\n",
    "\n",
    "Using the same list of words as before, the next cells show the new similarities and plot the new word vectors. \n",
    "\n",
    "Try changing the hyperparameters to see if they have any impact.  These include :\n",
    "\n",
    "* number of embedding dimensions (ie. size of the embeddings)\n",
    "* learning rate\n",
    "* number of epochs\n",
    "* batch size (optionally)\n",
    "\n",
    "Training word vectors requires large amounts of text.  This project is a toy example, so do not be discouraged if differences are small... Try to still look for anything noteworthy.  "
   ]
  },
  {
   "cell_type": "code",
   "execution_count": 25,
   "id": "3ecab8dd-320d-4e7c-9d70-cb87192bf4d8",
   "metadata": {},
   "outputs": [],
   "source": [
    "embeddings_aft = np.array([model.embeddings(torch.tensor(word2idx[word],dtype=torch.long)).detach().numpy() \n",
    "                       for word in words]).squeeze()"
   ]
  },
  {
   "cell_type": "code",
   "execution_count": 26,
   "id": "22e90dfa-1fdb-4d1d-9aae-e38b7258d5b0",
   "metadata": {
    "collapsed": true,
    "jupyter": {
     "outputs_hidden": true
    },
    "tags": []
   },
   "outputs": [
    {
     "name": "stdout",
     "output_type": "stream",
     "text": [
      "[-2.1022754  1.2793748]\n"
     ]
    },
    {
     "data": {
      "image/png": "[encoded data removed]",
      "text/plain": [
       "<Figure size 640x480 with 1 Axes>"
      ]
     },
     "metadata": {},
     "output_type": "display_data"
    }
   ],
   "source": [
    "reduced = pca.fit_transform(embeddings_aft)\n",
    "print(reduced[0])\n",
    "\n",
    "plt.scatter(reduced[:,1], reduced[:, 0])\n",
    "for i, word in enumerate(words):\n",
    "    plt.annotate(word, xy=(reduced[i, 1], reduced[i, 0]))\n",
    "plt.show()\n",
    "# plt.savefig(\"plot.pdf\") # save fig to pdf"
   ]
  },
  {
   "cell_type": "code",
   "execution_count": 27,
   "id": "dd25c308-ebfa-4b2f-8d7b-eab54471afbe",
   "metadata": {},
   "outputs": [
    {
     "data": {
      "text/plain": [
       "<Axes: >"
      ]
     },
     "execution_count": 27,
     "metadata": {},
     "output_type": "execute_result"
    },
    {
     "data": {
      "image/png": "[encoded data removed]",
      "text/plain": [
       "<Figure size 640x480 with 2 Axes>"
      ]
     },
     "metadata": {},
     "output_type": "display_data"
    }
   ],
   "source": [
    "dot_similarity = np.dot(embeddings_aft, embeddings_aft.T)\n",
    "norms = np.linalg.norm(embeddings_aft, axis=1)\n",
    "dot_similarity /= np.outer(norms, norms)\n",
    "\n",
    "mask = np.zeros_like(dot_similarity)\n",
    "mask[np.triu_indices_from(mask)] = True\n",
    "sns.heatmap(dot_similarity,\n",
    "            xticklabels=words,\n",
    "            yticklabels=words,\n",
    "            annot=True,\n",
    "            mask=mask,\n",
    "            cmap='viridis')\n",
    "# plt.savefig(\"heatmap.pdf\") # save fig to pdf"
   ]
  },
  {
   "cell_type": "markdown",
   "id": "3ff45f91",
   "metadata": {},
   "source": [
    "### Visualizing Word Vectors and Similarities After Training\n",
    "\n",
    "The plots below show the 2D visualization of word vectors and their cosine similarities after training. The words included in this visualization are 'man', 'king', 'lord', 'woman', 'queen', and 'lady'. These visualizations help us understand how the model has learned to represent the semantic relationships between these words.\n",
    "\n",
    "#### PCA Plot of Word Vectors After Training\n",
    "\n",
    "<div style='text-align:center;'><img src=\"images/plot_vectors_after_training.png\"/></div>\n",
    "\n",
    "#### Interpretation\n",
    "\n",
    "- **Semantic Closeness**: Words like \"king\" and \"queen\" are closer together, indicating that the model has learned some semantic similarity between these words. Similarly, \"man\" and \"woman\" are also closer, showing that the model captures the gendered semantic relationships.\n",
    "- **Distinct Clusters**: Words such as \"king\" and \"queen\" are relatively distinct from \"man\" and \"woman\", which aligns with their specific semantic roles in language (royalty vs. gender).\n",
    "- **Improved Clustering**: The clustering of words now reflects meaningful semantic relationships, showing that the training has had a positive impact.\n",
    "\n",
    "#### Cosine Similarity Heatmap After Training\n",
    "\n",
    "<div style='text-align:center;'><img src=\"images/heatmap_after_training.png\"/></div>\n",
    "\n",
    "#### Interpretation\n",
    "\n",
    "- **Increased Similarity for Related Words**: The cosine similarity scores between semantically similar words, such as \"king\" and \"queen\" or \"man\" and \"woman\", have increased, indicating that the model has learned to represent these relationships.\n",
    "- **Decreased Similarity for Unrelated Words**: Words with different meanings show lower cosine similarity scores, reflecting their semantic differences.\n",
    "\n",
    "### Hypotheses Verification\n",
    "\n",
    "The results after training verify the hypotheses. Semantically similar words have moved closer together in the vector space, and their cosine similarity scores have increased. This suggests that the model has effectively captured some of the semantic relationships between these words.\n",
    "\n",
    "\n"
   ]
  },
  {
   "cell_type": "markdown",
   "id": "b96daafb",
   "metadata": {},
   "source": [
    "\n",
    "### Summary\n",
    "By adjusting these hyperparameters and potentially using a larger dataset, the word vectors can be further refined to better capture semantic similarities and differences, resulting in a more accurate representation of word meanings."
   ]
  }
 ],
 "metadata": {
  "kernelspec": {
   "display_name": "Python 3 (ipykernel)",
   "language": "python",
   "name": "python3"
  },
  "language_info": {
   "codemirror_mode": {
    "name": "ipython",
    "version": 3
   },
   "file_extension": ".py",
   "mimetype": "text/x-python",
   "name": "python",
   "nbconvert_exporter": "python",
   "pygments_lexer": "ipython3",
   "version": "3.11.7"
  }
 },
 "nbformat": 4,
 "nbformat_minor": 5
}
